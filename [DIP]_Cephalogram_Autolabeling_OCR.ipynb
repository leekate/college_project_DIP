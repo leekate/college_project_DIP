{
  "nbformat": 4,
  "nbformat_minor": 0,
  "metadata": {
    "kernelspec": {
      "display_name": "Python 3",
      "language": "python",
      "name": "python3"
    },
    "language_info": {
      "codemirror_mode": {
        "name": "ipython",
        "version": 3
      },
      "file_extension": ".py",
      "mimetype": "text/x-python",
      "name": "python",
      "nbconvert_exporter": "python",
      "pygments_lexer": "ipython3",
      "version": "3.5.6"
    },
    "colab": {
      "name": "[DIP] Cephalogram Autolabeling_OCR.ipynb",
      "provenance": []
    }
  },
  "cells": [
    {
      "cell_type": "markdown",
      "metadata": {
        "id": "4U2yXBRMBNVd"
      },
      "source": [
        "# Tesseract ocr\n",
        "1. https://github.com/UB-Mannheim/tesseract/wiki 에서 운영체재에 맞는 .exe 파일 설치 후\n",
        "2. 아나콘다에서 pip install pytesseract 실행"
      ]
    },
    {
      "cell_type": "code",
      "metadata": {
        "id": "6gd3Kg74BNVf"
      },
      "source": [
        "import pytesseract\n",
        "from PIL import Image"
      ],
      "execution_count": null,
      "outputs": []
    },
    {
      "cell_type": "code",
      "metadata": {
        "id": "SuS6OL-EBNVg"
      },
      "source": [
        "pytesseract.pytesseract.tesseract_cmd = r'C:\\Program Files\\Tesseract-OCR\\tesseract.exe'"
      ],
      "execution_count": null,
      "outputs": []
    },
    {
      "cell_type": "code",
      "metadata": {
        "id": "_h3nsNk6BNVn",
        "outputId": "c197ecab-8625-4f08-f30e-77307be110c0"
      },
      "source": [
        "text = pytesseract.image_to_string('C:/Users/jiwoo/Desktop/images.png')\n",
        "text = text.replace(\"\\n\",\"\")\n",
        "text = text.replace(\"\\m\",\"\")\n",
        "print(text)"
      ],
      "execution_count": null,
      "outputs": [
        {
          "output_type": "stream",
          "text": [
            "We're absolutely delighted we've‘taken out a Film English ClubInstitutional membership. Theviewing guides are superb and sinceour students have been using themwe've since a definite improvementin their listening, speaking,pronunciation and vocabulary. \f\n"
          ],
          "name": "stdout"
        }
      ]
    },
    {
      "cell_type": "code",
      "metadata": {
        "id": "LTCn5vSlBNVv",
        "outputId": "ef950e5e-e974-4af0-c656-51b0086c23ad"
      },
      "source": [
        "import os\n",
        "import matplotlib.pyplot as plt\n",
        "\n",
        "base_path = 'C:/Users/jiwoo/Desktop/crops/binary/'\n",
        "names = os.listdir(base_path)\n",
        "\n",
        "\n",
        "for name in names:\n",
        "    path = str(base_path + name)\n",
        "    text = pytesseract.image_to_string(path)\n",
        "    text = text.replace(\"\\n\",\"\")\n",
        "    text = text.replace(\"\\m\",\"\")\n",
        "    print(name,' == ',text)"
      ],
      "execution_count": null,
      "outputs": [
        {
          "output_type": "stream",
          "text": [
            "binary_A.jpg  ==  \f\n",
            "binary_ANS.jpg  ==  rhs\f\n",
            "binary_Ar.jpg  ==  \f\n",
            "binary_B.jpg  ==  \f\n",
            "binary_Ba.jpg  ==  \f\n",
            "binary_Co.jpg  ==  \f\n",
            "binary_Go.jpg  ==  \f\n",
            "binary_Me.jpg  ==  \f\n",
            "binary_Na.jpg  ==  ine\f\n",
            "binary_Or.jpg  ==  \f\n",
            "binary_PNS.jpg  ==  aked\f\n",
            "binary_Po.jpg  ==  \f\n",
            "binary_Pog.jpg  ==  \f\n",
            "binary_Pt.jpg  ==  \f\n",
            "binary_R1.jpg  ==  \f\n",
            "binary_R3.jpg  ==  \f\n",
            "binary_s.jpg  ==  \f\n"
          ],
          "name": "stdout"
        }
      ]
    },
    {
      "cell_type": "code",
      "metadata": {
        "id": "0KqZU_WDBNVw"
      },
      "source": [
        ""
      ],
      "execution_count": null,
      "outputs": []
    },
    {
      "cell_type": "code",
      "metadata": {
        "id": "lghma896BNVy"
      },
      "source": [
        ""
      ],
      "execution_count": null,
      "outputs": []
    }
  ]
}